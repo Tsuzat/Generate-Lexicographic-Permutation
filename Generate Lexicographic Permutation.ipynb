{
 "cells": [
  {
   "cell_type": "code",
   "execution_count": 4,
   "metadata": {},
   "outputs": [],
   "source": [
    "def Generate_Lexicographic_Permutation(s:list):\n",
    "\n",
    "    k = len(s)-2 \n",
    "    \n",
    "    # getting value of k for which, s[k]<s[k+1]\n",
    "    while not (k<0 or s[k]<s[k+1]):\n",
    "        k -= 1\n",
    "    \n",
    "    #if no such k then it's last permutation \n",
    "    if k<0:\n",
    "        return False\n",
    "    \n",
    "    #else:\n",
    "    \n",
    "    # getting I such that s[k]<s[I]\n",
    "    I = len(s)-1\n",
    "    \n",
    "    while not(s[I]>s[k]):\n",
    "        I -= 1\n",
    "    \n",
    "    #sawping s[k] and s[I]\n",
    "    s[I],s[k] = s[k],s[I]\n",
    "    \n",
    "    # reversing s[k+1:]\n",
    "    s[k+1:] = reversed(s[k+1:])\n",
    "    \n",
    "    return True"
   ]
  },
  {
   "cell_type": "code",
   "execution_count": 5,
   "metadata": {},
   "outputs": [
    {
     "data": {
      "text/plain": [
       "False"
      ]
     },
     "execution_count": 5,
     "metadata": {},
     "output_type": "execute_result"
    }
   ],
   "source": [
    "Generate_Lexicographic_Permutation(['c','b','a','a','a'])"
   ]
  },
  {
   "cell_type": "code",
   "execution_count": 6,
   "metadata": {},
   "outputs": [
    {
     "name": "stdout",
     "output_type": "stream",
     "text": [
      "aabac\n"
     ]
    }
   ],
   "source": [
    "s = input()\n",
    "s = sorted(s) # in case if it's not sorted\n",
    "ans = [] # to store Permutations\n",
    "ans.append(''.join(s))\n",
    "while Generate_Lexicographic_Permutation(s):\n",
    "    ans.append(''.join(s))"
   ]
  },
  {
   "cell_type": "code",
   "execution_count": 9,
   "metadata": {},
   "outputs": [
    {
     "name": "stdout",
     "output_type": "stream",
     "text": [
      "Total permulations : 20\n",
      "aaabc aaacb aabac aabca aacab aacba abaac abaca abcaa acaab acaba acbaa baaac baaca bacaa bcaaa caaab caaba cabaa cbaaa "
     ]
    }
   ],
   "source": [
    "#Printing permutations stored in ans[]\n",
    "print(\"Total permulations : {}\".format(len(ans)))\n",
    "for i in ans:\n",
    "    print(i,end = ' ')"
   ]
  }
 ],
 "metadata": {
  "kernelspec": {
   "display_name": "Python 3",
   "language": "python",
   "name": "python3"
  },
  "language_info": {
   "codemirror_mode": {
    "name": "ipython",
    "version": 3
   },
   "file_extension": ".py",
   "mimetype": "text/x-python",
   "name": "python",
   "nbconvert_exporter": "python",
   "pygments_lexer": "ipython3",
   "version": "3.8.5"
  }
 },
 "nbformat": 4,
 "nbformat_minor": 4
}
